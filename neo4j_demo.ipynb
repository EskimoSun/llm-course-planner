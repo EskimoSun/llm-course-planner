{
 "cells": [
  {
   "cell_type": "code",
   "execution_count": 28,
   "id": "96b81cd4",
   "metadata": {},
   "outputs": [],
   "source": [
    "import numpy as np\n",
    "import pandas as pd\n",
    "from neo4j import GraphDatabase\n",
    "from typing import List, Dict\n",
    "import os\n",
    "import streamlit as st\n",
    "import re\n",
    "import pandas as pd"
   ]
  },
  {
   "cell_type": "markdown",
   "id": "3898e939",
   "metadata": {},
   "source": [
    "## Processing Raw Data(Scraped from course catalogue)"
   ]
  },
  {
   "cell_type": "markdown",
   "id": "f8f312c2",
   "metadata": {},
   "source": [
    "## Opening and Specifying Directory"
   ]
  },
  {
   "cell_type": "code",
   "execution_count": 101,
   "id": "fbd04b04",
   "metadata": {},
   "outputs": [],
   "source": [
    "source_directory = 'data/raw'\n",
    "target_directory = 'data/processed'\n",
    "\n",
    "# Define the source and target directories\n",
    "def is_graduate_course(title):\n",
    "    match = re.search(r'\\b\\d{1,3}', title)  # Extract course number\n",
    "    if match:\n",
    "        course_number = int(match.group())  # Convert to integer\n",
    "        return course_number >= 200  # Check if it's a graduate course\n",
    "    return False  # If no number is found, consider it not a graduate course\n",
    "\n",
    "# Split the title and extract the first two elements\n",
    "def get_index(title):\n",
    "    split_title = title.split()  # Split the title by spaces\n",
    "    return \" \".join(split_title[:2]).strip(\".\")  # Join the first two elements back into a string\n",
    "\n",
    "def get_name(title):\n",
    "    # Split the title by whitespace\n",
    "    parts = title.split()\n",
    "    \n",
    "    # Remove the first two elements (course code and number)\n",
    "    course_name_parts = parts[2:-1]  # Exclude the last element (e.g., '(4)')\n",
    "    \n",
    "    # Join the remaining parts to reconstruct the course name\n",
    "    course_name = ' '.join(course_name_parts)\n",
    "    \n",
    "    return course_name\n",
    "\n",
    "def get_unit(description):\n",
    "    # Use regex to find the number inside parentheses\n",
    "    match = re.search(r'\\((\\d+)\\)', description)\n",
    "    if match:\n",
    "        return int(match.group(1))  # Convert the unit to an integer\n",
    "    return None  # Return None if no unit is found\n",
    "\n",
    "def get_tags(description):\n",
    "    # Split the string by \"Tags:\" and check if tags exist\n",
    "    if \"Tags:\" in description:\n",
    "        tags_part = description.split(\"Tags:\")[1]  # Extract the part after \"Tags:\"\n",
    "        # Split tags into a list and strip any extra whitespace\n",
    "        tags = [tag.strip() for tag in tags_part.split(',')]\n",
    "        return tags\n",
    "    return []  # Return an empty list if no tags are found"
   ]
  },
  {
   "cell_type": "markdown",
   "id": "66511171",
   "metadata": {},
   "source": [
    "## Extracting Key Informations(Prereqs, Units, Major Restrictions)"
   ]
  },
  {
   "cell_type": "code",
   "execution_count": 106,
   "id": "16c7b81c",
   "metadata": {},
   "outputs": [
    {
     "name": "stdout",
     "output_type": "stream",
     "text": [
      "Sent to data/processed\\CSE Course Data.csv\n",
      "Sent to data/processed\\Math Course Data.csv\n"
     ]
    }
   ],
   "source": [
    "for file_name in os.listdir(source_directory):\n",
    "    \n",
    "    if file_name.endswith('.csv'):  # Only process CSV files\n",
    "        prerequisites = []\n",
    "        major_restrictions = []\n",
    "        course_indexes = []\n",
    "        course_units = []\n",
    "        course_titles = []\n",
    "        course_descriptions = []\n",
    "        course_tags = []\n",
    "        source_file_path = os.path.join(source_directory, file_name)\n",
    "        target_file_path = os.path.join(target_directory, file_name)\n",
    "        \n",
    "        # Read the CSV file\n",
    "        raw_data = pd.read_csv(source_file_path)\n",
    "        data = raw_data[~raw_data['Title'].apply(is_graduate_course)]\n",
    "\n",
    "        # Extract course titles into a list\n",
    "        course_indexes = data['Title'].apply(get_index).tolist()\n",
    "        course_titles = data['Title'].apply(get_name).tolist()\n",
    "        course_units = data['Title'].apply(get_unit).tolist()\n",
    "        course_tags = data['Title'].apply(get_tags).tolist()\n",
    "        \n",
    "        \n",
    "        # Extract descriptions into a list\n",
    "        course_descriptions = data['Description'].tolist()\n",
    "\n",
    "        # Loop through the course descriptions to extract key info\n",
    "        for description in course_descriptions:\n",
    "            # Check for major restrictions\n",
    "            if \"restricted to\" in description.lower():\n",
    "                # Extract the part mentioning restricted majors\n",
    "                match = re.search(r\"restricted to (.+?)(?:\\.|$)\", description, re.IGNORECASE)\n",
    "                if match:\n",
    "                    restriction_text = match.group(1)\n",
    "                    # Extract major codes (e.g., CS25, EC26)\n",
    "                    majors = re.findall(r\"[A-Z]{2}\\d{2}\", restriction_text)\n",
    "                    \n",
    "                    # Check if unrestricted condition is also mentioned\n",
    "                    if \"all other students will be allowed\" in description.lower():\n",
    "                        major_restrictions.append([])  # Unrestricted as space permits\n",
    "                    else:\n",
    "                        major_restrictions.append(majors)  # Only restricted to listed majors\n",
    "                else:\n",
    "                    major_restrictions.append([])  # No valid restriction found\n",
    "            else:\n",
    "                major_restrictions.append([])  # No restrictions mentioned\n",
    "            \n",
    "            # Match prerequisites that look like course numbers (e.g., \"CSE 12\", \"MATH 10A\")\n",
    "            match = re.search(r\"Prerequisite[s]*: (.+?)(?:\\.|$)\", description)\n",
    "            if match:\n",
    "                # Extract the part of the description mentioning prerequisites\n",
    "                prereqs_text = match.group(1)\n",
    "                # Use regex to find course numbers (e.g., \"MATH 10A\", \"CSE 12\")\n",
    "                prereqs = re.findall(r\"[A-Z]{2,4} \\d+[A-Z]?\", prereqs_text)\n",
    "            else:\n",
    "                prereqs = []  # No prerequisites found\n",
    "            prerequisites.append(prereqs)\n",
    "            \n",
    "        # Display the results in a structured format\n",
    "        structured_data = {\n",
    "            \"Course_Index\": course_indexes,\n",
    "            \"Course_Title\": course_titles,\n",
    "            \"Course_Units\" : course_units,\n",
    "            \"Course_Description\": course_descriptions,\n",
    "            \"Course_Prerequisites\": prerequisites,\n",
    "            \"Major_Restriction\" : major_restrictions, \n",
    "            \"Course_Tags\": course_tags\n",
    "        }\n",
    "\n",
    "        df_structured = pd.DataFrame(structured_data)\n",
    "        df_structured.to_csv(target_file_path, index=False)\n",
    "        \n",
    "        \n",
    "        print(\"Sent to\", target_file_path)\n"
   ]
  },
  {
   "cell_type": "code",
   "execution_count": 30,
   "id": "af13c5e0",
   "metadata": {},
   "outputs": [],
   "source": [
    "class CourseDatabase:\n",
    "    def __init__(self, uri: str, username: str, password: str):\n",
    "        \"\"\"Initialize connection to Neo4j database.\"\"\"\n",
    "        self.driver = GraphDatabase.driver(uri, auth=(username, password))\n",
    "\n",
    "    def close(self):\n",
    "        \"\"\"Close the database connection.\"\"\"\n",
    "        self.driver.close()\n",
    "\n",
    "    def add_course(self, code: str, name: str) -> None:\n",
    "        \"\"\"Add a new course to the database.\"\"\"\n",
    "        with self.driver.session() as session:\n",
    "            session.execute_write(self._create_course, code, name)\n",
    "\n",
    "    @staticmethod\n",
    "    def _create_course(tx, code: str, name: str):\n",
    "        query = \"\"\"\n",
    "        MERGE (c:Course {code: $code})\n",
    "        SET c.name = $name\n",
    "        RETURN c\n",
    "        \"\"\"\n",
    "        result = tx.run(query, code=code, name=name)\n",
    "        return result.single()\n",
    "\n",
    "    def add_prerequisite(self, course_code: str, prereq_code: str) -> None:\n",
    "        \"\"\"Add a prerequisite relationship between courses.\"\"\"\n",
    "        with self.driver.session() as session:\n",
    "            session.execute_write(self._create_prerequisite, course_code, prereq_code)\n",
    "\n",
    "    @staticmethod\n",
    "    def _create_prerequisite(tx, course_code: str, prereq_code: str):\n",
    "        query = \"\"\"\n",
    "        MATCH (c:Course {code: $course_code})\n",
    "        MATCH (p:Course {code: $prereq_code})\n",
    "        MERGE (c)-[:REQUIRES]->(p)\n",
    "        \"\"\"\n",
    "        tx.run(query, course_code=course_code, prereq_code=prereq_code)\n",
    "\n",
    "    def get_prerequisites(self, course_code: str, recursive: bool = True) -> List[Dict]:\n",
    "        \"\"\"Get prerequisites for a course. If recursive=True, get all indirect prerequisites as well.\"\"\"\n",
    "        with self.driver.session() as session:\n",
    "            return session.execute_read(self._get_prerequisites, course_code, recursive)\n",
    "\n",
    "    @staticmethod\n",
    "    def _get_prerequisites(tx, course_code: str, recursive: bool):\n",
    "        depth = \"*\" if recursive else \"1\"\n",
    "        query = f\"\"\"\n",
    "        MATCH (c:Course {{code: $code}})-[:REQUIRES{depth}]->(p:Course)\n",
    "        RETURN p.code as code, p.name as name\n",
    "        \"\"\"\n",
    "        result = tx.run(query, code=course_code)\n",
    "        return [dict(record) for record in result]\n",
    "\n",
    "    def get_available_courses(self, completed_courses: List[str]) -> List[Dict]:\n",
    "        \"\"\"Get courses where all prerequisites have been completed.\"\"\"\n",
    "        with self.driver.session() as session:\n",
    "            return session.execute_read(self._get_available_courses, completed_courses)\n",
    "\n",
    "    @staticmethod\n",
    "    def _get_available_courses(tx, completed_courses: List[str]):\n",
    "        query = \"\"\"\n",
    "        MATCH (c:Course)\n",
    "        WHERE (\n",
    "            // Either has no prerequisites\n",
    "            NOT EXISTS((c)-[:REQUIRES]->(:Course))\n",
    "            OR \n",
    "            // Or all prerequisites are completed\n",
    "            ALL(prereq IN [(c)-[:REQUIRES]->(p) | p.code] \n",
    "                WHERE prereq IN $completed_courses)\n",
    "        )\n",
    "        // Exclude courses that are already completed\n",
    "        AND NOT c.code IN $completed_courses\n",
    "        RETURN c.code as code, c.name as name\n",
    "        \"\"\"\n",
    "        result = tx.run(query, completed_courses=completed_courses)\n",
    "        return [dict(record) for record in result]"
   ]
  },
  {
   "cell_type": "code",
   "execution_count": 4,
   "id": "4813f96f",
   "metadata": {},
   "outputs": [],
   "source": [
    "uri = st.secrets[\"uri\"]\n",
    "username = st.secrets[\"username\"]\n",
    "password = st.secrets[\"password\"]\n",
    "\n",
    "db = CourseDatabase(\n",
    "    uri=uri,\n",
    "    username=username,\n",
    "    password=password\n",
    ")"
   ]
  },
  {
   "cell_type": "markdown",
   "id": "eb24559e",
   "metadata": {},
   "source": [
    "## Populating the Neo4j Database"
   ]
  },
  {
   "cell_type": "code",
   "execution_count": null,
   "id": "93782168",
   "metadata": {},
   "outputs": [],
   "source": []
  },
  {
   "cell_type": "code",
   "execution_count": 5,
   "id": "388f5b97",
   "metadata": {},
   "outputs": [],
   "source": [
    "courses = [\n",
    "            (\"CS101\", \"Intro to Programming\"),\n",
    "            (\"CS201\", \"Data Structures\"),\n",
    "            (\"CS301\", \"Algorithms\"),\n",
    "            (\"MATH101\", \"Calculus I\"),\n",
    "            (\"MATH201\", \"Calculus II\")\n",
    "        ]\n",
    "        \n",
    "for code, name in courses:\n",
    "    db.add_course(code, name)"
   ]
  },
  {
   "cell_type": "code",
   "execution_count": 6,
   "id": "ed288df9",
   "metadata": {},
   "outputs": [],
   "source": [
    "prerequisites = [\n",
    "            (\"CS201\", \"CS101\"),\n",
    "            (\"CS301\", \"CS201\"),\n",
    "            (\"MATH201\", \"MATH101\"),\n",
    "            (\"CS301\", \"MATH201\")\n",
    "        ]\n",
    "        \n",
    "for course, prereq in prerequisites:\n",
    "    db.add_prerequisite(course, prereq)"
   ]
  },
  {
   "cell_type": "code",
   "execution_count": 8,
   "id": "0d012f91",
   "metadata": {},
   "outputs": [
    {
     "name": "stdout",
     "output_type": "stream",
     "text": [
      "Prerequisites for CS301:\n",
      "- MATH201: Calculus II\n",
      "- MATH101: Calculus I\n",
      "- CS201: Data Structures\n",
      "- CS101: Intro to Programming\n"
     ]
    }
   ],
   "source": [
    "print(\"Prerequisites for CS301:\")\n",
    "prereqs = db.get_prerequisites(\"CS301\")\n",
    "for prereq in prereqs:\n",
    "    print(f\"- {prereq['code']}: {prereq['name']}\")"
   ]
  },
  {
   "cell_type": "code",
   "execution_count": null,
   "id": "5f5f6689",
   "metadata": {},
   "outputs": [
    {
     "name": "stdout",
     "output_type": "stream",
     "text": [
      "Available courses (completed: CS101, MATH101):\n",
      "- CS201: Data Structures\n",
      "- MATH201: Calculus II\n"
     ]
    }
   ],
   "source": [
    "# print(\"Available courses (completed: CS101, MATH101):\")\n",
    "# available = db.get_available_courses([\"CS101\", \"MATH101\"])\n",
    "# for course in available:\n",
    "#     print(f\"- {course['code']}: {course['name']}\")"
   ]
  },
  {
   "cell_type": "code",
   "execution_count": 10,
   "id": "ff417d71",
   "metadata": {},
   "outputs": [],
   "source": [
    "db.close()"
   ]
  },
  {
   "cell_type": "code",
   "execution_count": null,
   "id": "3614300c",
   "metadata": {},
   "outputs": [],
   "source": []
  }
 ],
 "metadata": {
  "kernelspec": {
   "display_name": ".venv",
   "language": "python",
   "name": "python3"
  },
  "language_info": {
   "codemirror_mode": {
    "name": "ipython",
    "version": 3
   },
   "file_extension": ".py",
   "mimetype": "text/x-python",
   "name": "python",
   "nbconvert_exporter": "python",
   "pygments_lexer": "ipython3",
   "version": "3.12.4"
  }
 },
 "nbformat": 4,
 "nbformat_minor": 5
}
