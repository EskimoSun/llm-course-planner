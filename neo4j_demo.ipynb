{
 "cells": [
  {
   "cell_type": "code",
   "execution_count": 1,
   "id": "96b81cd4",
   "metadata": {},
   "outputs": [],
   "source": [
    "import numpy as np\n",
    "import pandas as pd\n",
    "from neo4j import GraphDatabase\n",
    "from typing import List, Dict\n",
    "import logging\n",
    "import streamlit as st"
   ]
  },
  {
   "cell_type": "code",
   "execution_count": 2,
   "id": "af13c5e0",
   "metadata": {},
   "outputs": [],
   "source": [
    "class CourseDatabase:\n",
    "    def __init__(self, uri: str, username: str, password: str):\n",
    "        \"\"\"Initialize connection to Neo4j database.\"\"\"\n",
    "        self.driver = GraphDatabase.driver(uri, auth=(username, password))\n",
    "\n",
    "    def close(self):\n",
    "        \"\"\"Close the database connection.\"\"\"\n",
    "        self.driver.close()\n",
    "\n",
    "    def add_course(self, code: str, name: str) -> None:\n",
    "        \"\"\"Add a new course to the database.\"\"\"\n",
    "        with self.driver.session() as session:\n",
    "            session.execute_write(self._create_course, code, name)\n",
    "\n",
    "    @staticmethod\n",
    "    def _create_course(tx, code: str, name: str):\n",
    "        query = \"\"\"\n",
    "        MERGE (c:Course {code: $code})\n",
    "        SET c.name = $name\n",
    "        RETURN c\n",
    "        \"\"\"\n",
    "        result = tx.run(query, code=code, name=name)\n",
    "        return result.single()\n",
    "\n",
    "    def add_prerequisite(self, course_code: str, prereq_code: str) -> None:\n",
    "        \"\"\"Add a prerequisite relationship between courses.\"\"\"\n",
    "        with self.driver.session() as session:\n",
    "            session.execute_write(self._create_prerequisite, course_code, prereq_code)\n",
    "\n",
    "    @staticmethod\n",
    "    def _create_prerequisite(tx, course_code: str, prereq_code: str):\n",
    "        query = \"\"\"\n",
    "        MATCH (c:Course {code: $course_code})\n",
    "        MATCH (p:Course {code: $prereq_code})\n",
    "        MERGE (c)-[:REQUIRES]->(p)\n",
    "        \"\"\"\n",
    "        tx.run(query, course_code=course_code, prereq_code=prereq_code)\n",
    "\n",
    "    def get_prerequisites(self, course_code: str, recursive: bool = True) -> List[Dict]:\n",
    "        \"\"\"Get prerequisites for a course. If recursive=True, get all indirect prerequisites as well.\"\"\"\n",
    "        with self.driver.session() as session:\n",
    "            return session.execute_read(self._get_prerequisites, course_code, recursive)\n",
    "\n",
    "    @staticmethod\n",
    "    def _get_prerequisites(tx, course_code: str, recursive: bool):\n",
    "        depth = \"*\" if recursive else \"1\"\n",
    "        query = f\"\"\"\n",
    "        MATCH (c:Course {{code: $code}})-[:REQUIRES{depth}]->(p:Course)\n",
    "        RETURN p.code as code, p.name as name\n",
    "        \"\"\"\n",
    "        result = tx.run(query, code=course_code)\n",
    "        return [dict(record) for record in result]\n",
    "\n",
    "    def get_available_courses(self, completed_courses: List[str]) -> List[Dict]:\n",
    "        \"\"\"Get courses where all prerequisites have been completed.\"\"\"\n",
    "        with self.driver.session() as session:\n",
    "            return session.execute_read(self._get_available_courses, completed_courses)\n",
    "\n",
    "    @staticmethod\n",
    "    def _get_available_courses(tx, completed_courses: List[str]):\n",
    "        query = \"\"\"\n",
    "        MATCH (c:Course)\n",
    "        WHERE (\n",
    "            // Either has no prerequisites\n",
    "            NOT EXISTS((c)-[:REQUIRES]->(:Course))\n",
    "            OR \n",
    "            // Or all prerequisites are completed\n",
    "            ALL(prereq IN [(c)-[:REQUIRES]->(p) | p.code] \n",
    "                WHERE prereq IN $completed_courses)\n",
    "        )\n",
    "        // Exclude courses that are already completed\n",
    "        AND NOT c.code IN $completed_courses\n",
    "        RETURN c.code as code, c.name as name\n",
    "        \"\"\"\n",
    "        result = tx.run(query, completed_courses=completed_courses)\n",
    "        return [dict(record) for record in result]"
   ]
  },
  {
   "cell_type": "code",
   "execution_count": 4,
   "id": "4813f96f",
   "metadata": {},
   "outputs": [],
   "source": [
    "uri = st.secrets[\"uri\"]\n",
    "username = st.secrets[\"username\"]\n",
    "password = st.secrets[\"password\"]\n",
    "\n",
    "db = CourseDatabase(\n",
    "    uri=uri,\n",
    "    username=username,\n",
    "    password=password\n",
    ")"
   ]
  },
  {
   "cell_type": "code",
   "execution_count": 5,
   "id": "388f5b97",
   "metadata": {},
   "outputs": [],
   "source": [
    "courses = [\n",
    "            (\"CS101\", \"Intro to Programming\"),\n",
    "            (\"CS201\", \"Data Structures\"),\n",
    "            (\"CS301\", \"Algorithms\"),\n",
    "            (\"MATH101\", \"Calculus I\"),\n",
    "            (\"MATH201\", \"Calculus II\")\n",
    "        ]\n",
    "        \n",
    "for code, name in courses:\n",
    "    db.add_course(code, name)"
   ]
  },
  {
   "cell_type": "code",
   "execution_count": 6,
   "id": "ed288df9",
   "metadata": {},
   "outputs": [],
   "source": [
    "prerequisites = [\n",
    "            (\"CS201\", \"CS101\"),\n",
    "            (\"CS301\", \"CS201\"),\n",
    "            (\"MATH201\", \"MATH101\"),\n",
    "            (\"CS301\", \"MATH201\")\n",
    "        ]\n",
    "        \n",
    "for course, prereq in prerequisites:\n",
    "    db.add_prerequisite(course, prereq)"
   ]
  },
  {
   "cell_type": "code",
   "execution_count": 8,
   "id": "0d012f91",
   "metadata": {},
   "outputs": [
    {
     "name": "stdout",
     "output_type": "stream",
     "text": [
      "Prerequisites for CS301:\n",
      "- MATH201: Calculus II\n",
      "- MATH101: Calculus I\n",
      "- CS201: Data Structures\n",
      "- CS101: Intro to Programming\n"
     ]
    }
   ],
   "source": [
    "print(\"Prerequisites for CS301:\")\n",
    "prereqs = db.get_prerequisites(\"CS301\")\n",
    "for prereq in prereqs:\n",
    "    print(f\"- {prereq['code']}: {prereq['name']}\")"
   ]
  },
  {
   "cell_type": "code",
   "execution_count": 9,
   "id": "5f5f6689",
   "metadata": {},
   "outputs": [
    {
     "name": "stdout",
     "output_type": "stream",
     "text": [
      "Available courses (completed: CS101, MATH101):\n",
      "- CS201: Data Structures\n",
      "- MATH201: Calculus II\n"
     ]
    }
   ],
   "source": [
    "print(\"Available courses (completed: CS101, MATH101):\")\n",
    "available = db.get_available_courses([\"CS101\", \"MATH101\"])\n",
    "for course in available:\n",
    "    print(f\"- {course['code']}: {course['name']}\")"
   ]
  },
  {
   "cell_type": "code",
   "execution_count": 10,
   "id": "ff417d71",
   "metadata": {},
   "outputs": [],
   "source": [
    "db.close()"
   ]
  },
  {
   "cell_type": "code",
   "execution_count": null,
   "id": "3614300c",
   "metadata": {},
   "outputs": [],
   "source": []
  }
 ],
 "metadata": {
  "kernelspec": {
   "display_name": ".venv",
   "language": "python",
   "name": "python3"
  },
  "language_info": {
   "codemirror_mode": {
    "name": "ipython",
    "version": 3
   },
   "file_extension": ".py",
   "mimetype": "text/x-python",
   "name": "python",
   "nbconvert_exporter": "python",
   "pygments_lexer": "ipython3",
   "version": "3.12.4"
  }
 },
 "nbformat": 4,
 "nbformat_minor": 5
}
